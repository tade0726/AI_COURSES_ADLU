{
 "cells": [
  {
   "cell_type": "code",
   "execution_count": 1,
   "metadata": {
    "ExecuteTime": {
     "end_time": "2022-03-21T09:24:05.958391Z",
     "start_time": "2022-03-21T09:24:05.948151Z"
    }
   },
   "outputs": [],
   "source": [
    "import random"
   ]
  },
  {
   "cell_type": "code",
   "execution_count": 3,
   "metadata": {
    "ExecuteTime": {
     "end_time": "2022-03-21T09:25:13.951350Z",
     "start_time": "2022-03-21T09:25:13.947438Z"
    }
   },
   "outputs": [],
   "source": [
    "a = [1, 2]\n",
    "random.shuffle(a)"
   ]
  },
  {
   "cell_type": "code",
   "execution_count": 5,
   "metadata": {
    "ExecuteTime": {
     "end_time": "2022-03-21T09:37:19.606028Z",
     "start_time": "2022-03-21T09:37:19.597512Z"
    }
   },
   "outputs": [],
   "source": [
    "a = \"\"\"218112478X \n",
    "3115151588 \n",
    "4422161467 \n",
    "8517035116\n",
    "3781268151 \n",
    "2741142242 \n",
    "6512127516 \n",
    "7713420421 \n",
    "8811151191 \n",
    "X871317100\n",
    "\"\"\""
   ]
  },
  {
   "cell_type": "code",
   "execution_count": 10,
   "metadata": {
    "ExecuteTime": {
     "end_time": "2022-03-21T09:38:26.133575Z",
     "start_time": "2022-03-21T09:38:26.129154Z"
    }
   },
   "outputs": [],
   "source": [
    "b = []\n",
    "\n",
    "for line in a.split(\"\\n\")[:-1]:\n",
    "    b.append(list(line.strip()))"
   ]
  },
  {
   "cell_type": "code",
   "execution_count": 12,
   "metadata": {
    "ExecuteTime": {
     "end_time": "2022-03-21T09:39:54.207837Z",
     "start_time": "2022-03-21T09:39:54.203965Z"
    }
   },
   "outputs": [],
   "source": [
    "rows = []\n",
    "for row in b:\n",
    "    rows.append(\" \".join(row))"
   ]
  },
  {
   "cell_type": "code",
   "execution_count": 15,
   "metadata": {
    "ExecuteTime": {
     "end_time": "2022-03-21T09:40:22.505354Z",
     "start_time": "2022-03-21T09:40:22.500911Z"
    }
   },
   "outputs": [
    {
     "name": "stdout",
     "output_type": "stream",
     "text": [
      "2 1 8 1 1 2 4 7 8 X\n",
      "3 1 1 5 1 5 1 5 8 8\n",
      "4 4 2 2 1 6 1 4 6 7\n",
      "8 5 1 7 0 3 5 1 1 6\n",
      "3 7 8 1 2 6 8 1 5 1\n",
      "2 7 4 1 1 4 2 2 4 2\n",
      "6 5 1 2 1 2 7 5 1 6\n",
      "7 7 1 3 4 2 0 4 2 1\n",
      "8 8 1 1 1 5 1 1 9 1\n",
      "X 8 7 1 3 1 7 1 0 0\n"
     ]
    }
   ],
   "source": [
    "print(\"\\n\".join(rows))"
   ]
  },
  {
   "cell_type": "code",
   "execution_count": 17,
   "metadata": {
    "ExecuteTime": {
     "end_time": "2022-03-21T10:54:29.313030Z",
     "start_time": "2022-03-21T10:54:28.661616Z"
    }
   },
   "outputs": [],
   "source": [
    "import numpy as np"
   ]
  },
  {
   "cell_type": "code",
   "execution_count": 18,
   "metadata": {
    "ExecuteTime": {
     "end_time": "2022-03-21T10:54:29.563184Z",
     "start_time": "2022-03-21T10:54:29.557899Z"
    }
   },
   "outputs": [],
   "source": [
    "a = np.array([[1, 2, 3], [0, 1, 3]])"
   ]
  },
  {
   "cell_type": "code",
   "execution_count": 25,
   "metadata": {
    "ExecuteTime": {
     "end_time": "2022-03-21T10:58:14.865038Z",
     "start_time": "2022-03-21T10:58:14.860465Z"
    }
   },
   "outputs": [
    {
     "data": {
      "text/plain": [
       "array([[ True, False, False],\n",
       "       [False,  True, False]])"
      ]
     },
     "execution_count": 25,
     "metadata": {},
     "output_type": "execute_result"
    }
   ],
   "source": [
    "a == 1"
   ]
  },
  {
   "cell_type": "code",
   "execution_count": 28,
   "metadata": {
    "ExecuteTime": {
     "end_time": "2022-03-21T10:58:31.071267Z",
     "start_time": "2022-03-21T10:58:31.063504Z"
    }
   },
   "outputs": [
    {
     "data": {
      "text/plain": [
       "[(array([0, 1]),), (array([0, 1]),)]"
      ]
     },
     "execution_count": 28,
     "metadata": {},
     "output_type": "execute_result"
    }
   ],
   "source": [
    "np.where(a == 1)"
   ]
  },
  {
   "cell_type": "code",
   "execution_count": 29,
   "metadata": {
    "ExecuteTime": {
     "end_time": "2022-03-21T11:27:35.430904Z",
     "start_time": "2022-03-21T11:27:35.423711Z"
    }
   },
   "outputs": [],
   "source": [
    "import math"
   ]
  },
  {
   "cell_type": "code",
   "execution_count": null,
   "metadata": {},
   "outputs": [],
   "source": [
    "math.e ** "
   ]
  },
  {
   "cell_type": "code",
   "execution_count": 48,
   "metadata": {
    "ExecuteTime": {
     "end_time": "2022-03-21T11:33:32.010097Z",
     "start_time": "2022-03-21T11:33:31.999917Z"
    }
   },
   "outputs": [
    {
     "ename": "TypeError",
     "evalue": "random() takes no arguments (2 given)",
     "output_type": "error",
     "traceback": [
      "\u001b[0;31m---------------------------------------------------------------------------\u001b[0m",
      "\u001b[0;31mTypeError\u001b[0m                                 Traceback (most recent call last)",
      "\u001b[0;32m<ipython-input-48-590ac2799cd3>\u001b[0m in \u001b[0;36m<module>\u001b[0;34m\u001b[0m\n\u001b[0;32m----> 1\u001b[0;31m \u001b[0mrandom\u001b[0m\u001b[0;34m.\u001b[0m\u001b[0mrandom\u001b[0m\u001b[0;34m(\u001b[0m\u001b[0;36m0\u001b[0m\u001b[0;34m,\u001b[0m \u001b[0;36m1\u001b[0m\u001b[0;34m)\u001b[0m\u001b[0;34m\u001b[0m\u001b[0;34m\u001b[0m\u001b[0m\n\u001b[0m",
      "\u001b[0;31mTypeError\u001b[0m: random() takes no arguments (2 given)"
     ]
    }
   ],
   "source": [
    "random.random(0, 1)"
   ]
  },
  {
   "cell_type": "code",
   "execution_count": 54,
   "metadata": {
    "ExecuteTime": {
     "end_time": "2022-03-21T11:59:36.701052Z",
     "start_time": "2022-03-21T11:59:36.690333Z"
    }
   },
   "outputs": [
    {
     "data": {
      "text/plain": [
       "1"
      ]
     },
     "execution_count": 54,
     "metadata": {},
     "output_type": "execute_result"
    }
   ],
   "source": [
    "a[(0, 0)]"
   ]
  },
  {
   "cell_type": "code",
   "execution_count": 53,
   "metadata": {
    "ExecuteTime": {
     "end_time": "2022-03-21T11:46:32.152838Z",
     "start_time": "2022-03-21T11:46:32.146258Z"
    }
   },
   "outputs": [
    {
     "data": {
      "text/plain": [
       "(1,)"
      ]
     },
     "execution_count": 53,
     "metadata": {},
     "output_type": "execute_result"
    }
   ],
   "source": [
    "(1, 2)[]"
   ]
  }
 ],
 "metadata": {
  "kernelspec": {
   "display_name": "Python 3",
   "language": "python",
   "name": "python3"
  },
  "language_info": {
   "codemirror_mode": {
    "name": "ipython",
    "version": 3
   },
   "file_extension": ".py",
   "mimetype": "text/x-python",
   "name": "python",
   "nbconvert_exporter": "python",
   "pygments_lexer": "ipython3",
   "version": "3.8.5"
  }
 },
 "nbformat": 4,
 "nbformat_minor": 4
}
