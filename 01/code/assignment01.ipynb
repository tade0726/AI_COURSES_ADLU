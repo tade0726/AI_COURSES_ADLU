{
 "cells": [
  {
   "cell_type": "code",
   "execution_count": 14,
   "metadata": {
    "ExecuteTime": {
     "end_time": "2022-03-20T10:40:03.806999Z",
     "start_time": "2022-03-20T10:40:03.803879Z"
    }
   },
   "outputs": [],
   "source": [
    "import numpy as np"
   ]
  },
  {
   "cell_type": "code",
   "execution_count": 15,
   "metadata": {
    "ExecuteTime": {
     "end_time": "2022-03-20T10:40:03.813668Z",
     "start_time": "2022-03-20T10:40:03.810675Z"
    }
   },
   "outputs": [],
   "source": [
    "a = \"\"\"* 1 1 1 1 1 4 7 8 X\n",
    "* 1 1 1 1 1 1 5 8 8\n",
    "* 1 1 1 1 1 1 4 6 7\n",
    "* 1 1 1 1 X 1 1 1 6\n",
    "* 1 1 1 1 X 1 1 1 1\n",
    "* * 1 1 1 1 1 1 1 1\n",
    "6 * * 1 1 X 1 1 1 1\n",
    "7 7 * X X X 1 1 1 1\n",
    "8 8 * * 1 1 1 1 1 1\n",
    "X 8 7 * * * * * * *\"\"\""
   ]
  },
  {
   "cell_type": "code",
   "execution_count": 16,
   "metadata": {
    "ExecuteTime": {
     "end_time": "2022-03-20T10:40:03.820167Z",
     "start_time": "2022-03-20T10:40:03.817336Z"
    }
   },
   "outputs": [],
   "source": [
    "c = \"\"\"* * * * * 1 4 7 8 X\n",
    "1 1 1 1 * * * 5 8 8\n",
    "1 1 1 1 1 1 * 4 6 7\n",
    "1 1 1 1 1 X * 1 1 6\n",
    "1 1 1 1 1 X * 1 1 1\n",
    "1 1 1 1 1 1 * 1 1 1\n",
    "6 1 1 1 1 X * 1 1 1\n",
    "7 7 1 X X X * 1 1 1\n",
    "8 8 1 1 1 1 * 1 1 1\n",
    "X 8 7 1 1 1 * * * *\n",
    "\"\"\""
   ]
  },
  {
   "cell_type": "code",
   "execution_count": 17,
   "metadata": {
    "ExecuteTime": {
     "end_time": "2022-03-20T10:40:03.826929Z",
     "start_time": "2022-03-20T10:40:03.823448Z"
    }
   },
   "outputs": [],
   "source": [
    "b = \"\"\"1 1 1 1 1 1 4 7 8 X\n",
    "1 1 1 1 1 1 1 5 8 8\n",
    "1 1 1 1 1 1 1 4 6 7\n",
    "1 1 1 1 1 X 1 1 1 6\n",
    "1 1 1 1 1 X 1 1 1 1\n",
    "1 1 1 1 1 1 1 1 1 1\n",
    "6 1 1 1 1 X 1 1 1 1\n",
    "7 7 1 X X X 1 1 1 1\n",
    "8 8 1 1 1 1 1 1 1 1\n",
    "X 8 7 1 1 1 1 1 1 1\n",
    "\"\"\""
   ]
  },
  {
   "cell_type": "code",
   "execution_count": 18,
   "metadata": {
    "ExecuteTime": {
     "end_time": "2022-03-20T10:40:03.835645Z",
     "start_time": "2022-03-20T10:40:03.830703Z"
    }
   },
   "outputs": [],
   "source": [
    "a_m = []\n",
    "path = []\n",
    "\n",
    "for idx, line in enumerate(a.split(\"\\n\")):\n",
    "    eles = line.split()\n",
    "    a_m.append(eles)\n",
    "    \n",
    "    for idy, ele in enumerate(eles):\n",
    "        if ele == \"*\":\n",
    "            path.append((idx, idy))\n",
    "    \n",
    "b_m = []\n",
    "\n",
    "for line in b.split(\"\\n\"):\n",
    "    b_m.append(line.split())"
   ]
  },
  {
   "cell_type": "code",
   "execution_count": 19,
   "metadata": {
    "ExecuteTime": {
     "end_time": "2022-03-20T10:40:03.841195Z",
     "start_time": "2022-03-20T10:40:03.837764Z"
    }
   },
   "outputs": [],
   "source": [
    "c_m = []\n",
    "c_path = []\n",
    "\n",
    "for idx, line in enumerate(c.split(\"\\n\")):\n",
    "    eles = line.split()\n",
    "    c_m.append(eles)\n",
    "    \n",
    "    for idy, ele in enumerate(eles):\n",
    "        if ele == \"*\":\n",
    "            c_path.append((idx, idy))\n",
    "    "
   ]
  },
  {
   "cell_type": "code",
   "execution_count": 20,
   "metadata": {
    "ExecuteTime": {
     "end_time": "2022-03-20T10:40:03.847857Z",
     "start_time": "2022-03-20T10:40:03.842622Z"
    }
   },
   "outputs": [
    {
     "data": {
      "text/plain": [
       "[['*', '*', '*', '*', '*', '1', '4', '7', '8', 'X'],\n",
       " ['1', '1', '1', '1', '*', '*', '*', '5', '8', '8'],\n",
       " ['1', '1', '1', '1', '1', '1', '*', '4', '6', '7'],\n",
       " ['1', '1', '1', '1', '1', 'X', '*', '1', '1', '6'],\n",
       " ['1', '1', '1', '1', '1', 'X', '*', '1', '1', '1'],\n",
       " ['1', '1', '1', '1', '1', '1', '*', '1', '1', '1'],\n",
       " ['6', '1', '1', '1', '1', 'X', '*', '1', '1', '1'],\n",
       " ['7', '7', '1', 'X', 'X', 'X', '*', '1', '1', '1'],\n",
       " ['8', '8', '1', '1', '1', '1', '*', '1', '1', '1'],\n",
       " ['X', '8', '7', '1', '1', '1', '*', '*', '*', '*'],\n",
       " []]"
      ]
     },
     "execution_count": 20,
     "metadata": {},
     "output_type": "execute_result"
    }
   ],
   "source": [
    "c_m"
   ]
  },
  {
   "cell_type": "code",
   "execution_count": 21,
   "metadata": {
    "ExecuteTime": {
     "end_time": "2022-03-20T10:40:03.855691Z",
     "start_time": "2022-03-20T10:40:03.851441Z"
    }
   },
   "outputs": [
    {
     "data": {
      "text/plain": [
       "[['*', '1', '1', '1', '1', '1', '4', '7', '8', 'X'],\n",
       " ['*', '1', '1', '1', '1', '1', '1', '5', '8', '8'],\n",
       " ['*', '1', '1', '1', '1', '1', '1', '4', '6', '7'],\n",
       " ['*', '1', '1', '1', '1', 'X', '1', '1', '1', '6'],\n",
       " ['*', '1', '1', '1', '1', 'X', '1', '1', '1', '1'],\n",
       " ['*', '*', '1', '1', '1', '1', '1', '1', '1', '1'],\n",
       " ['6', '*', '*', '1', '1', 'X', '1', '1', '1', '1'],\n",
       " ['7', '7', '*', 'X', 'X', 'X', '1', '1', '1', '1'],\n",
       " ['8', '8', '*', '*', '1', '1', '1', '1', '1', '1'],\n",
       " ['X', '8', '7', '*', '*', '*', '*', '*', '*', '*']]"
      ]
     },
     "execution_count": 21,
     "metadata": {},
     "output_type": "execute_result"
    }
   ],
   "source": [
    "a_m"
   ]
  },
  {
   "cell_type": "code",
   "execution_count": 22,
   "metadata": {
    "ExecuteTime": {
     "end_time": "2022-03-20T10:40:03.862120Z",
     "start_time": "2022-03-20T10:40:03.857259Z"
    }
   },
   "outputs": [
    {
     "data": {
      "text/plain": [
       "[['1', '1', '1', '1', '1', '1', '4', '7', '8', 'X'],\n",
       " ['1', '1', '1', '1', '1', '1', '1', '5', '8', '8'],\n",
       " ['1', '1', '1', '1', '1', '1', '1', '4', '6', '7'],\n",
       " ['1', '1', '1', '1', '1', 'X', '1', '1', '1', '6'],\n",
       " ['1', '1', '1', '1', '1', 'X', '1', '1', '1', '1'],\n",
       " ['1', '1', '1', '1', '1', '1', '1', '1', '1', '1'],\n",
       " ['6', '1', '1', '1', '1', 'X', '1', '1', '1', '1'],\n",
       " ['7', '7', '1', 'X', 'X', 'X', '1', '1', '1', '1'],\n",
       " ['8', '8', '1', '1', '1', '1', '1', '1', '1', '1'],\n",
       " ['X', '8', '7', '1', '1', '1', '1', '1', '1', '1'],\n",
       " []]"
      ]
     },
     "execution_count": 22,
     "metadata": {},
     "output_type": "execute_result"
    }
   ],
   "source": [
    "b_m"
   ]
  },
  {
   "cell_type": "code",
   "execution_count": 23,
   "metadata": {
    "ExecuteTime": {
     "end_time": "2022-03-20T10:40:03.866659Z",
     "start_time": "2022-03-20T10:40:03.863246Z"
    }
   },
   "outputs": [],
   "source": [
    "cost = 0\n",
    "\n",
    "for i, (x, y) in enumerate(path):\n",
    "    if i == 0:\n",
    "        pass\n",
    "    else:\n",
    "        extra = int(b_m[x][y]) - int(b_m[x_p][y_p])\n",
    "        extra = extra if extra > 0 else 0\n",
    "        cost = cost + 1 + extra\n",
    "    \n",
    "    x_p, y_p = x, y"
   ]
  },
  {
   "cell_type": "code",
   "execution_count": 24,
   "metadata": {
    "ExecuteTime": {
     "end_time": "2022-03-20T10:40:03.871067Z",
     "start_time": "2022-03-20T10:40:03.868339Z"
    }
   },
   "outputs": [
    {
     "data": {
      "text/plain": [
       "18"
      ]
     },
     "execution_count": 24,
     "metadata": {},
     "output_type": "execute_result"
    }
   ],
   "source": [
    "cost"
   ]
  },
  {
   "cell_type": "code",
   "execution_count": 25,
   "metadata": {
    "ExecuteTime": {
     "end_time": "2022-03-20T10:40:03.874934Z",
     "start_time": "2022-03-20T10:40:03.872295Z"
    }
   },
   "outputs": [],
   "source": [
    "c_cost = 0\n",
    "\n",
    "for i, (x, y) in enumerate(c_path):\n",
    "    if i == 0:\n",
    "        pass\n",
    "    else:\n",
    "        extra = int(b_m[x][y]) - int(b_m[x_p][y_p])\n",
    "        extra = extra if extra > 0 else 0\n",
    "        c_cost = c_cost + 1 + extra\n",
    "        \n",
    "    x_p, y_p = x, y"
   ]
  },
  {
   "cell_type": "code",
   "execution_count": 26,
   "metadata": {
    "ExecuteTime": {
     "end_time": "2022-03-20T10:40:03.878572Z",
     "start_time": "2022-03-20T10:40:03.876246Z"
    },
    "scrolled": true
   },
   "outputs": [
    {
     "data": {
      "text/plain": [
       "18"
      ]
     },
     "execution_count": 26,
     "metadata": {},
     "output_type": "execute_result"
    }
   ],
   "source": [
    "c_cost"
   ]
  }
 ],
 "metadata": {
  "kernelspec": {
   "display_name": "Python 3",
   "language": "python",
   "name": "python3"
  },
  "language_info": {
   "codemirror_mode": {
    "name": "ipython",
    "version": 3
   },
   "file_extension": ".py",
   "mimetype": "text/x-python",
   "name": "python",
   "nbconvert_exporter": "python",
   "pygments_lexer": "ipython3",
   "version": "3.8.5"
  }
 },
 "nbformat": 4,
 "nbformat_minor": 4
}
